{
 "cells": [
  {
   "cell_type": "code",
   "execution_count": 3,
   "metadata": {},
   "outputs": [
    {
     "name": "stdout",
     "output_type": "stream",
     "text": [
      "system: <|system|>你是一个政务知识专家，你可以深入回答任何关于\n",
      "request: <|request|>阅读下方的工单，然后选择一个最合适的分类。\n",
      "response: <|response|>你是一个乐于助人的AI助手。\n"
     ]
    }
   ],
   "source": [
    "import re\n",
    "\n",
    "def clean_and_segment_text(json_data):\n",
    "    # 定义一个正则表达式来匹配角色名称\n",
    "    pattern = r\"<\\|(.+?)\\|>\"\n",
    "\n",
    "    # 分段的结果\n",
    "    segments = []\n",
    "\n",
    "    # 将文本分割成行\n",
    "    lines = json_data['text'].split('\\n')\n",
    "\n",
    "    for line in lines:\n",
    "        # 寻找所有匹配的角色名称\n",
    "        matches = re.findall(pattern, line)\n",
    "\n",
    "        for match in matches:\n",
    "            # 检查角色名称长度\n",
    "            if len(match) <= 10:\n",
    "                # 清除角色名称后，剩余的是发言内容\n",
    "                speech = line.replace(f\"<{match}>\", \"\").strip()\n",
    "                # 创建一个段落，包含角色和发言\n",
    "                segments.append(f\"{match}: {speech}\")\n",
    "\n",
    "    return segments\n",
    "\n",
    "\n",
    "\n",
    "# 清洗并分段\n",
    "cleaned_segments = clean_and_segment_text(json_data)\n",
    "\n",
    "# 打印结果\n",
    "for segment in cleaned_segments:\n",
    "    print(segment)\n"
   ]
  },
  {
   "cell_type": "code",
   "execution_count": 13,
   "metadata": {},
   "outputs": [],
   "source": [
    "# 示例JSON数据\n",
    "json_data = {\n",
    "    \"text\": \"\"\"<|system|>你是一个政务知识专家，\n",
    "    你可以深入回答任何关于政务和城市治理的问题。你将收到很多来自市民的问题投诉工单，你总能确保将工单正确分类。\n",
    "    <|request|>阅读下方的工单，然后选择一个最合适的分类。\n",
    "    <|response|>你是一个乐于助人的AI助手。\n",
    "    <|request|>工单内容：消费方式:实体店\\n商家名称:晓茜宜功公司\\n商家详细地址:宁春区影筠街道梅林路34-2连城新天地\\n消费类型:生活美容\\n商品/服务名称:美发服务\\n商品数量:1\\n消费时间:2022-10-16\\n消费金额:2222\\n交易方式:支付宝\\n消费凭证号:无\\n是否与商家协商过:否\\n具体情况描述:22年10月7日，在商场由该店人员推销发型设计进入该店，剪发之后充值了2222元，23年3月19日第二次去理发，发型师态度很差，剪发效果也让我不满，已不想再到该店消费，现要求退还卡里余额，约1022左右\\n涉事个人姓名:乜东涉事个人通讯地址:深圳市秋琴菁群勇雅公司\n",
    "    \"\"\"\n",
    "}"
   ]
  },
  {
   "cell_type": "code",
   "execution_count": 16,
   "metadata": {},
   "outputs": [
    {
     "name": "stdout",
     "output_type": "stream",
     "text": [
      "system:\n",
      "你是一个政务知识专家，\n",
      "你可以深入回答任何关于政务和城市治理的问题。你将收到很多来自市民的问题投诉工单，你总能确保将工单正确分类。\n",
      "request:\n",
      "阅读下方的工单，然后选择一个最合适的分类。\n",
      "工单内容：消费方式:实体店\n",
      "商家名称:晓茜宜功公司\n",
      "商家详细地址:宁春区影筠街道梅林路34-2连城新天地\n",
      "消费类型:生活美容\n",
      "商品/服务名称:美发服务\n",
      "商品数量:1\n",
      "消费时间:2022-10-16\n",
      "消费金额:2222\n",
      "交易方式:支付宝\n",
      "消费凭证号:无\n",
      "是否与商家协商过:否\n",
      "具体情况描述:22年10月7日，在商场由该店人员推销发型设计进入该店，剪发之后充值了2222元，23年3月19日第二次去理发，发型师态度很差，剪发效果也让我不满，已不想再到该店消费，现要求退还卡里余额，约1022左右\n",
      "涉事个人姓名:乜东涉事个人通讯地址:深圳市秋琴菁群勇雅公司\n",
      "\n",
      "response:\n",
      "你是一个乐于助人的AI助手。\n"
     ]
    }
   ],
   "source": [
    "import re\n",
    "\n",
    "def clean_and_segment_text(json_data):\n",
    "    # 定义一个正则表达式来匹配角色名称\n",
    "    pattern = r\"<\\|(.+?)\\|>\"\n",
    "\n",
    "    # 创建一个字典来存储每个角色的发言\n",
    "    dialogues = {}\n",
    "\n",
    "    # 追踪最近一次匹配到的角色名称\n",
    "    last_character = None\n",
    "\n",
    "    # 将文本分割成行\n",
    "    lines = json_data['text'].split('\\n')\n",
    "\n",
    "    for line in lines:\n",
    "        # 寻找匹配的角色名称\n",
    "        match = re.search(pattern, line)\n",
    "        if match:\n",
    "            character = match.group(1)\n",
    "\n",
    "            # 检查角色名称长度\n",
    "            if len(character) <= 10:\n",
    "                last_character = character  # 更新最近一次的角色\n",
    "\n",
    "                # 清除角色名称后，剩余的是发言内容\n",
    "                speech = re.sub(pattern, \"\", line).strip()\n",
    "                \n",
    "                # 将发言添加到角色的发言列表中\n",
    "                if character not in dialogues:\n",
    "                    dialogues[character] = []\n",
    "                dialogues[character].append(speech)\n",
    "        elif last_character:\n",
    "            # 没有匹配到新角色，使用上一个角色\n",
    "            dialogues[last_character].append(line.strip())\n",
    "\n",
    "    return dialogues\n",
    "\n",
    "\n",
    "# 清洗并分段\n",
    "cleaned_dialogues = clean_and_segment_text(json_data)\n",
    "\n",
    "# 打印结果\n",
    "for character, speeches in cleaned_dialogues.items():\n",
    "    print(f\"{character}:\")\n",
    "    for speech in speeches:\n",
    "        print(f\"{speech}\")\n"
   ]
  }
 ],
 "metadata": {
  "kernelspec": {
   "display_name": "rwkv",
   "language": "python",
   "name": "python3"
  },
  "language_info": {
   "codemirror_mode": {
    "name": "ipython",
    "version": 3
   },
   "file_extension": ".py",
   "mimetype": "text/x-python",
   "name": "python",
   "nbconvert_exporter": "python",
   "pygments_lexer": "ipython3",
   "version": "3.10.13"
  }
 },
 "nbformat": 4,
 "nbformat_minor": 2
}
